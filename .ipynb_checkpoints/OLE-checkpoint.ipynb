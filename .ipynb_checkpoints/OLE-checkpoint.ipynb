{
 "cells": [
  {
   "cell_type": "markdown",
   "metadata": {},
   "source": [
    "## Importing numpy, math and matplotlib"
   ]
  },
  {
   "cell_type": "code",
   "execution_count": 1,
   "metadata": {},
   "outputs": [],
   "source": [
    "import numpy as np\n",
    "import math\n",
    "import matplotlib.pyplot as plt"
   ]
  },
  {
   "cell_type": "markdown",
   "metadata": {},
   "source": [
    "## Lets create a fake data set to fit a line through"
   ]
  },
  {
   "cell_type": "code",
   "execution_count": 21,
   "metadata": {},
   "outputs": [],
   "source": [
    "X = np.array([1, 2, 4, 3, 5])\n",
    "Y = np.array([1, 3, 3, 2, 5])"
   ]
  },
  {
   "cell_type": "markdown",
   "metadata": {},
   "source": [
    "### We are very familiar with the equation Y = mx + b. Now linear regression is always trying to fit some line to this equation that gives us the least error. This can be also done with multivariable inputs but lets keep that for the later part of the blog."
   ]
  },
  {
   "cell_type": "markdown",
   "metadata": {},
   "source": [
    "### We'll be using the ordinary least square method to fit our line here. Now this method was very popular and also used often to this day. The lack of huge computational power makes it really easy to like, plus the math is easy :)"
   ]
  },
  {
   "cell_type": "markdown",
   "metadata": {},
   "source": [
    "$$m = \\sum (X - Xmean)(Y - Ymean) / \\sum (X - Xmean)^{2}$$"
   ]
  },
  {
   "cell_type": "markdown",
   "metadata": {},
   "source": [
    "$$c = ymean - (m * xmean)$$\n",
    "### If you want to know the intuition behind this formula, m comes from trying to minimizing the sum of error for each points, so the m comes from taking the derivative of the loss function = 0. Because the derivative of any curve (here loss) gives thhe point where the loss is minimum.\n",
    "### c just comes from fitting X_mean, Y_mean and m in to the formula."
   ]
  },
  {
   "cell_type": "code",
   "execution_count": 23,
   "metadata": {},
   "outputs": [],
   "source": [
    "y_mean = Y.mean()\n",
    "x_mean = X.mean()\n",
    "\n",
    "numerator = 0\n",
    "denominator = 0\n",
    "\n",
    "for i in range(len(X)):\n",
    "    numerator += (X[i] - x_mean) * (Y[i] - y_mean)\n",
    "    denominator += (X[i] - x_mean)**2\n",
    "    \n",
    "m = numerator / denominator\n",
    "c = y_mean - (m * x_mean)"
   ]
  },
  {
   "cell_type": "markdown",
   "metadata": {},
   "source": [
    "### Lets see the m and c value that we got."
   ]
  },
  {
   "cell_type": "code",
   "execution_count": 29,
   "metadata": {},
   "outputs": [
    {
     "name": "stdout",
     "output_type": "stream",
     "text": [
      "m 0.8 c 0.39999999999999947\n"
     ]
    }
   ],
   "source": [
    "print('m', m, 'c', c)"
   ]
  },
  {
   "cell_type": "markdown",
   "metadata": {},
   "source": [
    "### Plotting the real values and out projected line."
   ]
  },
  {
   "cell_type": "code",
   "execution_count": 32,
   "metadata": {},
   "outputs": [
    {
     "data": {
      "image/png": "[encoded data removed]",
      "text/plain": [
       "<Figure size 432x288 with 1 Axes>"
      ]
     },
     "metadata": {
      "needs_background": "light"
     },
     "output_type": "display_data"
    }
   ],
   "source": [
    "plt.scatter(X, Y, c='r')\n",
    "\n",
    "Y_pred = m * X + c\n",
    "\n",
    "plt.plot(X, Y_pred)\n",
    "plt.show()"
   ]
  },
  {
   "cell_type": "markdown",
   "metadata": {},
   "source": [
    "### RMSE (Root Mean Squared Error)\n",
    "$$RMSE = \\sqrt (\\sum (Y - Ypred)^{2} / n)$$"
   ]
  },
  {
   "cell_type": "markdown",
   "metadata": {},
   "source": [
    "### One of the metrics for regression problem."
   ]
  },
  {
   "cell_type": "code",
   "execution_count": 34,
   "metadata": {},
   "outputs": [
    {
     "name": "stdout",
     "output_type": "stream",
     "text": [
      "RMSE ==  0.692820323027551\n"
     ]
    }
   ],
   "source": [
    "sum_of_errors = np.sum(((Y - Y_pred)**2)) / len(X)\n",
    "rmse = math.sqrt(sum_of_errors)\n",
    "print('RMSE == ', rmse)"
   ]
  },
  {
   "cell_type": "code",
   "execution_count": null,
   "metadata": {},
   "outputs": [],
   "source": []
  }
 ],
 "metadata": {
  "kernelspec": {
   "display_name": "Python 3",
   "language": "python",
   "name": "python3"
  },
  "language_info": {
   "codemirror_mode": {
    "name": "ipython",
    "version": 3
   },
   "file_extension": ".py",
   "mimetype": "text/x-python",
   "name": "python",
   "nbconvert_exporter": "python",
   "pygments_lexer": "ipython3",
   "version": "3.6.7"
  }
 },
 "nbformat": 4,
 "nbformat_minor": 2
}
