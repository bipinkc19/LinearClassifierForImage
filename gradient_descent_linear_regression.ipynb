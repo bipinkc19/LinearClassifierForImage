{
 "cells": [
  {
   "cell_type": "code",
   "execution_count": 1,
   "metadata": {},
   "outputs": [],
   "source": [
    "import pandas as pd\n",
    "import numpy as np\n",
    "import matplotlib.pyplot as plt\n",
    "import time\n",
    "from IPython import display"
   ]
  },
  {
   "cell_type": "markdown",
   "metadata": {},
   "source": [
    "## Lets create this dataset where X is the number of cricket chirps and Y is the temperature in fahrenheit"
   ]
  },
  {
   "cell_type": "code",
   "execution_count": 2,
   "metadata": {},
   "outputs": [],
   "source": [
    "X = [20, 16, 19.79999924, 18.39999962, 17.10000038, 15.5, 14.69999981, 17.10000038, 15.39999962, 16.20000076, 15, 17.20000076, 16, 17, 14.39999962]\n",
    "Y = [88.59999847, 71.59999847, 93.30000305, 84.30000305, 80.59999847, 75.19999695, 69.69999695, 82, 69.40000153, 83.30000305, 79.59999847, 82.59999847, 80.59999847, 83.5, 76.30000305]"
   ]
  },
  {
   "cell_type": "code",
   "execution_count": 3,
   "metadata": {},
   "outputs": [],
   "source": [
    "X = np.array(X)\n",
    "Y = np.array(Y)"
   ]
  },
  {
   "cell_type": "markdown",
   "metadata": {},
   "source": [
    "### Let us plot the figure to see this distribution"
   ]
  },
  {
   "cell_type": "code",
   "execution_count": 4,
   "metadata": {},
   "outputs": [
    {
     "data": {
      "image/png": "[encoded data removed]",
      "text/plain": [
       "<Figure size 432x288 with 1 Axes>"
      ]
     },
     "metadata": {
      "needs_background": "light"
     },
     "output_type": "display_data"
    }
   ],
   "source": [
    "plt.scatter(X, Y)\n",
    "plt.xlabel(\"Number of cricket chirps\")\n",
    "plt.ylabel(\"Temperature in Fahrenheit\")\n",
    "plt.show()"
   ]
  },
  {
   "cell_type": "markdown",
   "metadata": {},
   "source": [
    "_Defining a function which returns the least square error_"
   ]
  },
  {
   "cell_type": "markdown",
   "metadata": {},
   "source": [
    "$$Error = \\sqrt (\\sum (Y - Ypred)^{2} / n)$$"
   ]
  },
  {
   "cell_type": "code",
   "execution_count": 5,
   "metadata": {},
   "outputs": [],
   "source": [
    "def error(x, y, m, c):\n",
    "    numerator = 0\n",
    "    denominator = 0\n",
    "    for i in range(len(x)):\n",
    "        numerator += (x[i] - np.mean(x)) * (y[i] - np.mean(y))\n",
    "        denominator += (x[i] - np.mean(x)) ** 2\n",
    "        \n",
    "    return (numerator / denominator)"
   ]
  },
  {
   "cell_type": "markdown",
   "metadata": {},
   "source": [
    "_The gradient of the errors with repect to error_"
   ]
  },
  {
   "cell_type": "markdown",
   "metadata": {},
   "source": [
    "$$ dE/dm = -2/N*(Y_i - Ypred_i) $$\n",
    "$$ dE/dc = -2/N*X_i*(Y_i - Ypred_i) $$"
   ]
  },
  {
   "cell_type": "code",
   "execution_count": 6,
   "metadata": {},
   "outputs": [],
   "source": [
    "def gradient_descent(x, y, m, c):\n",
    "    c_gradient = 0\n",
    "    m_gradient = 0\n",
    "    N = len(x)\n",
    "    for i in range(0, len(x)):\n",
    "        c_gradient += -(2/N) * (y[i] - (m * x[i] + c))\n",
    "        m_gradient += -(2/N) * x[i] * (y[i] - (m * x[i] + c))\n",
    "    return (m_gradient, c_gradient)"
   ]
  },
  {
   "cell_type": "code",
   "execution_count": 18,
   "metadata": {
    "scrolled": true
   },
   "outputs": [
    {
     "data": {
      "image/png": "[encoded data removed]",
      "text/plain": [
       "<Figure size 432x288 with 1 Axes>"
      ]
     },
     "metadata": {
      "needs_background": "light"
     },
     "output_type": "display_data"
    },
    {
     "name": "stdout",
     "output_type": "stream",
     "text": [
      "Error is 3.2910945679475647\n"
     ]
    },
    {
     "data": {
      "text/plain": [
       "None"
      ]
     },
     "metadata": {},
     "output_type": "display_data"
    }
   ],
   "source": [
    "m, c = 0.1, 0.1\n",
    "lr = 0.001\n",
    "epochs = 10\n",
    "\n",
    "for i in range(epochs):\n",
    "    m_gradient, c_gradient = gradient_descent(X, Y, m, c)\n",
    "    # This is gradient descent\n",
    "    m -= lr * m_gradient\n",
    "    c -= lr * c_gradient\n",
    "\n",
    "    #just for display purposes\n",
    "    display.display(plt.scatter(X, Y, c = 'r'), plt.plot(X, X * m + c, c = 'k'))\n",
    "    plt.ylim(60, 100)\n",
    "    plt.xlim(14.3, 20)\n",
    "    plt.xlabel(\"Number of cricket chirps\")\n",
    "    plt.ylabel(\"Temperature in Fahrenheit\")\n",
    "    display.clear_output(wait=True)\n",
    "    plt.pause(0.5)\n",
    "\n",
    "display.display(print(\"Error is\", error(X, Y, m, c)))"
   ]
  },
  {
   "cell_type": "markdown",
   "metadata": {},
   "source": [
    "# Here I recommend to give lr a big value and see the line jjst bouncing around, or giving lr a small value and looking at it just not training\n",
    "# Also try giving the inital m and c some very large value and we caan see it is very hard for it to converge.\n",
    "# Basically set your learning rate right and initialization parameters small, something we can take away to training neural nets."
   ]
  },
  {
   "cell_type": "code",
   "execution_count": null,
   "metadata": {},
   "outputs": [],
   "source": []
  }
 ],
 "metadata": {
  "kernelspec": {
   "display_name": "Python 3",
   "language": "python",
   "name": "python3"
  },
  "language_info": {
   "codemirror_mode": {
    "name": "ipython",
    "version": 3
   },
   "file_extension": ".py",
   "mimetype": "text/x-python",
   "name": "python",
   "nbconvert_exporter": "python",
   "pygments_lexer": "ipython3",
   "version": "3.6.7"
  }
 },
 "nbformat": 4,
 "nbformat_minor": 2
}
